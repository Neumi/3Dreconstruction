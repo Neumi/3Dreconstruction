{
  "nbformat": 4,
  "nbformat_minor": 0,
  "metadata": {
    "colab": {
      "name": "3Dreconstruction.ipynb",
      "provenance": [],
      "include_colab_link": true
    },
    "kernelspec": {
      "name": "python3",
      "display_name": "Python 3"
    }
  },
  "cells": [
    {
      "cell_type": "markdown",
      "metadata": {
        "id": "view-in-github",
        "colab_type": "text"
      },
      "source": [
        "<a href=\"https://colab.research.google.com/github/Neumi/3Dreconstruction/blob/master/3Dreconstruction.ipynb\" target=\"_parent\"><img src=\"https://colab.research.google.com/assets/colab-badge.svg\" alt=\"Open In Colab\"/></a>"
      ]
    },
    {
      "cell_type": "code",
      "metadata": {
        "id": "-3Qtt3pMjsLc",
        "colab_type": "code",
        "colab": {
          "base_uri": "https://localhost:8080/",
          "height": 136
        },
        "outputId": "54724359-6d71-409a-c8f8-948fdeda4c95"
      },
      "source": [
        "!git clone https://github.com/alyssaq/3Dreconstruction"
      ],
      "execution_count": 1,
      "outputs": [
        {
          "output_type": "stream",
          "text": [
            "Cloning into '3Dreconstruction'...\n",
            "remote: Enumerating objects: 6, done.\u001b[K\n",
            "remote: Counting objects: 100% (6/6), done.\u001b[K\n",
            "remote: Compressing objects: 100% (4/4), done.\u001b[K\n",
            "remote: Total 155 (delta 2), reused 6 (delta 2), pack-reused 149\u001b[K\n",
            "Receiving objects: 100% (155/155), 655.23 KiB | 12.13 MiB/s, done.\n",
            "Resolving deltas: 100% (90/90), done.\n"
          ],
          "name": "stdout"
        }
      ]
    },
    {
      "cell_type": "code",
      "metadata": {
        "id": "oGITHxdojuX9",
        "colab_type": "code",
        "colab": {}
      },
      "source": [
        "!cd 3Dreconstruction/ && pip install -r requirements.txt\n"
      ],
      "execution_count": 0,
      "outputs": []
    },
    {
      "cell_type": "code",
      "metadata": {
        "id": "NdUf4OnFj4ks",
        "colab_type": "code",
        "colab": {
          "base_uri": "https://localhost:8080/",
          "height": 309
        },
        "outputId": "508e7675-c4aa-4204-84ae-05a6e7d6ccdd"
      },
      "source": [
        "!cd 3Dreconstruction/ && python3 cube_reconstruction.py"
      ],
      "execution_count": 3,
      "outputs": [
        {
          "output_type": "stream",
          "text": [
            "True essential matrix: [[matrix([[0.]]) matrix([[-1.]]) matrix([[0.]])]\n",
            " [matrix([[-0.361547]]) matrix([[0.]]) matrix([[-3.14154162]])]\n",
            " [matrix([[0.]]) matrix([[3.]]) matrix([[0.]])]]\n",
            "Computed essential matrix: [[-4.85388477e-05 -1.00000000e+00 -4.21762070e-04]\n",
            " [-3.62391216e-01 -3.38325541e-02 -3.14887717e+00]\n",
            " [ 1.45616543e-04  3.00000000e+00  1.26528621e-03]]\n",
            "True fundamental matrix: [[matrix([[0.]]) matrix([[-1.11111111e-05]]) matrix([[0.00166667]])]\n",
            " [matrix([[-4.01718887e-06]]) matrix([[0.]]) matrix([[-0.00986923]])]\n",
            " [matrix([[0.00060258]]) matrix([[0.01166667]]) matrix([[-0.26961594]])]]\n",
            "Traceback (most recent call last):\n",
            "  File \"cube_reconstruction.py\", line 119, in <module>\n",
            "    print('Computed fundamental matrix:', (F * true_F[2][2]))\n",
            "  File \"/usr/local/lib/python3.6/dist-packages/numpy/matrixlib/defmatrix.py\", line 226, in __rmul__\n",
            "    return N.dot(other, self)\n",
            "  File \"<__array_function__ internals>\", line 6, in dot\n",
            "ValueError: shapes (3,3) and (1,1) not aligned: 3 (dim 1) != 1 (dim 0)\n"
          ],
          "name": "stdout"
        }
      ]
    }
  ]
}